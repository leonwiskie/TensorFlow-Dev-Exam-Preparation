{
  "cells": [
    {
      "cell_type": "markdown",
      "metadata": {
        "id": "7RizlNtuIHm0"
      },
      "source": [
        "### EDA"
      ]
    },
    {
      "cell_type": "code",
      "execution_count": null,
      "metadata": {
        "id": "VWUEbctOOEmS"
      },
      "outputs": [],
      "source": [
        "import tensorflow as tf\n",
        "from tensorflow import keras\n",
        "from tensorflow.keras import layers\n",
        "import numpy as np\n",
        "import matplotlib.pyplot as plt\n",
        "import pandas as pd\n",
        "plt.style.use(\"dark_background\")"
      ]
    },
    {
      "cell_type": "code",
      "execution_count": null,
      "metadata": {
        "id": "e_gpxqeqIKAt"
      },
      "outputs": [],
      "source": [
        "train_df.target.value_counts()"
      ]
    },
    {
      "cell_type": "code",
      "execution_count": null,
      "metadata": {
        "id": "dD-a74YxIN9N"
      },
      "outputs": [],
      "source": [
        "train_df.target.value_counts().plot.bar();"
      ]
    },
    {
      "cell_type": "code",
      "execution_count": null,
      "metadata": {
        "id": "WNpYrli1Jb8f"
      },
      "outputs": [],
      "source": [
        "train_df.target.describe()"
      ]
    },
    {
      "cell_type": "code",
      "execution_count": null,
      "metadata": {
        "id": "xGI4e0VlJe67"
      },
      "outputs": [],
      "source": [
        "print(f\"Total training samples: {len(train_df)}\")\n",
        "print(f\"Total test samples: {len(test_df)}\")\n",
        "print(f\"Total samples: {len(test_df) + len(train_df)}\")"
      ]
    },
    {
      "cell_type": "code",
      "execution_count": null,
      "metadata": {
        "id": "Vic-JBrWIz0y"
      },
      "outputs": [],
      "source": [
        "from sklearn.model_selection import train_test_split\n",
        "\n",
        "train_sentences, val_sentences, train_labels, val_labels = train_test_split(train_df_shuffled[\"text\"].values,\n",
        "                                                                            train_df_shuffled[\"target\"].values,\n",
        "                                                                            test_size=0.1,\n",
        "                                                                            random_state=42)"
      ]
    },
    {
      "cell_type": "markdown",
      "metadata": {
        "id": "6VMANaBxJALC"
      },
      "source": [
        "get length of sentences"
      ]
    },
    {
      "cell_type": "code",
      "execution_count": null,
      "metadata": {
        "id": "SrMVlksUI-IJ"
      },
      "outputs": [],
      "source": [
        "sent_lens = [len(sentence.split()) for sentence in train_sentences]\n",
        "avg_sent_len = np.mean(sent_lens)"
      ]
    },
    {
      "cell_type": "code",
      "execution_count": null,
      "metadata": {
        "id": "Oz02lvUKJFac"
      },
      "outputs": [],
      "source": [
        "plt.hist(sent_lens, bins=100);"
      ]
    },
    {
      "cell_type": "code",
      "execution_count": null,
      "metadata": {
        "id": "v2wqCe0sJFqw"
      },
      "outputs": [],
      "source": [
        "# How long of a sentence covers 95% of the lengths?\n",
        "output_seq_len = int(np.percentile(sent_lens, 95))\n",
        "output_seq_len"
      ]
    },
    {
      "cell_type": "markdown",
      "metadata": {
        "id": "Q0n-LNYGIgQY"
      },
      "source": [
        "### Convert to one hot encoded (if needed)"
      ]
    },
    {
      "cell_type": "code",
      "execution_count": null,
      "metadata": {
        "id": "7JjYp6TZIqXu"
      },
      "outputs": [],
      "source": [
        "from sklearn.preprocessing import LabelEncoder\n",
        "label_encoder = LabelEncoder()\n",
        "train_labels_encoded = label_encoder.fit_transform(train_df[\"target\"].to_numpy())\n",
        "val_labels_encoded = label_encoder.transform(val_df[\"target\"].to_numpy())\n",
        "test_labels_encoded = label_encoder.transform(test_df[\"target\"].to_numpy())"
      ]
    },
    {
      "cell_type": "code",
      "execution_count": null,
      "metadata": {
        "id": "R1btxiEFIw0d"
      },
      "outputs": [],
      "source": [
        "num_classes = len(label_encoder.classes_)\n",
        "class_names = label_encoder.classes_\n",
        "num_classes, class_names"
      ]
    },
    {
      "cell_type": "markdown",
      "metadata": {
        "id": "uU6U-qbcJ0Zk"
      },
      "source": [
        "### Vectorizer layer"
      ]
    },
    {
      "cell_type": "code",
      "execution_count": null,
      "metadata": {
        "id": "tfyL-iP0JvCX"
      },
      "outputs": [],
      "source": [
        "max_vocab_length = 10000\n",
        "max_length = 15\n",
        "text_vectorizer = layers.TextVectorization(max_tokens=max_vocab_length, output_sequence_length=max_length)\n",
        "text_vectorizer.adapt(train_sentences)"
      ]
    },
    {
      "cell_type": "markdown",
      "metadata": {
        "id": "Tj8BFfO8KBvw"
      },
      "source": [
        "### Model (LSTM)"
      ]
    },
    {
      "cell_type": "code",
      "execution_count": null,
      "metadata": {
        "id": "hnrwLXFUJ96F"
      },
      "outputs": [],
      "source": [
        "embedding = layers.Embedding(input_dim=max_vocab_length,\n",
        "                              output_dim=128,\n",
        "                              input_length=max_length)\n",
        "\n",
        "inputs = layers.Input(shape=(1,), dtype=\"string\")\n",
        "x = text_vectorizer(inputs)\n",
        "x = embedding(x)\n",
        "x = layers.LSTM(64)(x)\n",
        "outputs = layers.Dense(1, activation=\"sigmoid\")(x)\n",
        "\n",
        "model = keras.Model(inputs, outputs)"
      ]
    },
    {
      "cell_type": "markdown",
      "metadata": {
        "id": "qo9jY8boKhHk"
      },
      "source": [
        "### Model (Conv1D)"
      ]
    },
    {
      "cell_type": "code",
      "execution_count": null,
      "metadata": {
        "id": "FTzas8WeKkYA"
      },
      "outputs": [],
      "source": [
        "embedding = layers.Embedding(input_dim=max_vocab_length,\n",
        "                              output_dim=128,\n",
        "                              input_length=max_length)\n",
        "\n",
        "model = keras.Sequential([\n",
        "  layers.Input(shape=(1,), dtype=\"string\"),\n",
        "  text_vectorizer,\n",
        "  emedding,\n",
        "  layers.Conv1D(32, 5, activation=\"relu\"),\n",
        "  layers.GlobalMaxPool1D(),\n",
        "  layers.Dropout(0.5),\n",
        "  layers.Dense(1, activation=\"sigmoid\")\n",
        "])"
      ]
    },
    {
      "cell_type": "markdown",
      "metadata": {
        "id": "ZQDK4mndKsBr"
      },
      "source": [
        "### Hub Layer w Universal sentence encoder"
      ]
    },
    {
      "cell_type": "code",
      "execution_count": null,
      "metadata": {
        "id": "VaTX1YamK1FX"
      },
      "outputs": [],
      "source": [
        "hub_layer = hub.KerasLayer(\"https://tfhub.dev/google/universal-sentence-encoder/4\",\n",
        "                           input_shape=[], dtype=tf.string, trainable=False)\n",
        "\n",
        "model = keras.Sequential([\n",
        "    hub_layer,\n",
        "    \n",
        "    layers.Dense(32, activation=\"relu\"),\n",
        "    layers.BatchNormalization(),\n",
        "    layers.Dropout(0.5),\n",
        "    \n",
        "    layers.Dense(10, activation=\"relu\"),\n",
        "    layers.BatchNormalization(),\n",
        "    layers.Dropout(0.5),\n",
        "    \n",
        "    layers.Dense(1, activation=\"sigmoid\"),\n",
        "])"
      ]
    },
    {
      "cell_type": "code",
      "execution_count": null,
      "metadata": {
        "id": "Slpccyu6Yd4y"
      },
      "outputs": [],
      "source": [
        "hub_layer = hub.KerasLayer(\"https://tfhub.dev/google/nnlm-en-dim128/2\", input_shape=[], \n",
        "                           dtype=tf.string, trainable=True)"
      ]
    },
    {
      "cell_type": "markdown",
      "metadata": {
        "id": "mdfPtcRiK4XG"
      },
      "source": [
        "### Complile and fit"
      ]
    },
    {
      "cell_type": "code",
      "execution_count": null,
      "metadata": {
        "id": "54RUNn2JK9Zt"
      },
      "outputs": [],
      "source": [
        "model.compile(loss=keras.losses.BinaryCrossentropy(),\n",
        "                optimizer=keras.optimizers.Adam(),\n",
        "                metrics=[\"accuracy\"])\n",
        "\n",
        "from tensorflow.keras.callbacks import EarlyStopping\n",
        "from tensorflow.keras.callbacks import ReduceLROnPlateau\n",
        "from tensorflow.keras.callbacks import ModelCheckpoint\n",
        "\n",
        "callbacks = [\n",
        "\tEarlyStopping(patience=5, monitor='val_loss', restore_best_weights=True),\n",
        "\tReduceLROnPlateau(monitor='val_loss', min_lr=1e-7, patience=2, mode='min', verbose=1, factor=0.1),\n",
        "\tModelCheckpoint(monitor='val_loss', filepath='./best_model.h5', save_best_only=True)\n",
        "]\n",
        "\n",
        "model.fit(train_sentences, train_labels, epochs=30,\n",
        "            validation_data=(val_sentences, val_labels), \n",
        "            callbacks=[callbacks])"
      ]
    },
    {
      "cell_type": "markdown",
      "metadata": {
        "id": "-LIegodQLJRd"
      },
      "source": [
        "### Evaluation"
      ]
    },
    {
      "cell_type": "code",
      "execution_count": null,
      "metadata": {
        "id": "wlkzKRx3LLaj"
      },
      "outputs": [],
      "source": [
        "def evaluate_model(ytrue, ypred, cm=False):\n",
        "  \"\"\"\n",
        "  Takes as input ground truth and predictions, outputs dictionary of metrics\n",
        "  \"\"\"\n",
        "  accuracy = sklearn.metrics.accuracy_score(ytrue, ypred)\n",
        "  precision, recall, f1, _ = sklearn.metrics.precision_recall_fscore_support(ytrue, ypred, average=\"weighted\")\n",
        "\n",
        "  if cm == True:\n",
        "    confusion_matrix = sklearn.metrics.confusion_matrix(ytrue, ypred)\n",
        "    disp = sklearn.metrics.ConfusionMatrixDisplay(confusion_matrix=confusion_matrix)\n",
        "    disp.plot(cmap=plt.cm.Blues)\n",
        "\n",
        "  return{\"accuracy\": accuracy, \"precision\": precision, \"recall\": recall, \"f1\":f1}\n",
        "\n",
        "model = tf.squeeze(tf.round(model.predict(val_sentences)))\n",
        "model_results = evaluate_model(val_labels, model_preds)\n",
        "\n",
        "model_8_results"
      ]
    },
    {
      "cell_type": "markdown",
      "metadata": {
        "id": "NEZpOLF4L3Bi"
      },
      "source": [
        "### Text cleaning\n",
        "\n",
        "Need to find a way to import into tensorflow layer"
      ]
    },
    {
      "cell_type": "code",
      "execution_count": null,
      "metadata": {
        "id": "Fs9gwD1xL4dh"
      },
      "outputs": [],
      "source": [
        "import neattext as nt\n",
        "\n",
        "def preprocess_text(text):\n",
        "    text = text.lower()\n",
        "    text = nt.TextFrame(text)\n",
        "    text = (text.remove_emails().remove_urls().remove_emojis()\n",
        "            .remove_puncts().remove_stopwords().remove_special_characters()\n",
        "\t\t\t\t\t\t.fix_contractions())\n",
        "    return str(text)\n",
        "\n",
        "train_df[\"text\"] = train_df[\"text\"].apply(lambda x:preprocess_text(x))"
      ]
    },
    {
      "cell_type": "code",
      "execution_count": null,
      "metadata": {
        "id": "vXJ8ygd2NvsE"
      },
      "outputs": [],
      "source": [
        "### https://www.tensorflow.org/tutorials/load_data/text"
      ]
    }
  ],
  "metadata": {
    "colab": {
      "provenance": []
    },
    "kernelspec": {
      "display_name": "Python 3",
      "language": "python",
      "name": "python3"
    },
    "language_info": {
      "name": "python",
      "version": "3.11.1"
    },
    "vscode": {
      "interpreter": {
        "hash": "1a1af0ee75eeea9e2e1ee996c87e7a2b11a0bebd85af04bb136d915cefc0abce"
      }
    }
  },
  "nbformat": 4,
  "nbformat_minor": 0
}
