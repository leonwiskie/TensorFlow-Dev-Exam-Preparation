{
  "cells": [
    {
      "cell_type": "code",
      "execution_count": null,
      "metadata": {
        "colab": {
          "base_uri": "https://localhost:8080/"
        },
        "id": "6rxlAdf3grIW",
        "outputId": "858fb0db-92fd-4633-e9ac-65b6a043ba10"
      },
      "outputs": [],
      "source": [
        "import tensorflow as tf\n",
        "print(tf.__version__)\n",
        "\n",
        "from tensorflow import keras"
      ]
    },
    {
      "cell_type": "code",
      "execution_count": null,
      "metadata": {
        "id": "iAFlQ2LVsWNJ"
      },
      "outputs": [],
      "source": [
        "class myCallback(keras.callbacks.Callback):\n",
        "  def on_epoch_end(self, epoch, logs={}):\n",
        "    if(logs.get(\"accuracy\") >= 0.998):\n",
        "      print(\"\\nReached 99.8% accuracy so cancelling training!\")\n",
        "      self.model.stop_training = True"
      ]
    },
    {
      "cell_type": "code",
      "execution_count": null,
      "metadata": {
        "id": "j8j1yemzqniI"
      },
      "outputs": [],
      "source": [
        "mnist = keras.datasets.mnist\n",
        "(x_train, y_train), (x_test, y_test) = mnist.load_data()"
      ]
    },
    {
      "cell_type": "code",
      "execution_count": null,
      "metadata": {
        "id": "AjymD-u8qwIR"
      },
      "outputs": [],
      "source": [
        "x_train = x_train.reshape(60000, 28, 28, 1)\n",
        "x_train = x_train / 255.0\n",
        "\n",
        "x_test = x_test.reshape(10000, 28, 28, 1)\n",
        "x_test = x_test / 255.0"
      ]
    },
    {
      "cell_type": "code",
      "execution_count": null,
      "metadata": {
        "id": "HJYhxKIerbek"
      },
      "outputs": [],
      "source": [
        "model = keras.models.Sequential([\n",
        "                                 keras.layers.Conv2D(256, (3,3), input_shape=(28, 28, 1)),\n",
        "                                 keras.layers.MaxPooling2D(2,2),\n",
        "                                 \n",
        "                                 keras.layers.Flatten(),\n",
        "                                 keras.layers.Dense(256, activation=\"relu\"),\n",
        "                                 keras.layers.Dense(128, activation=\"relu\"),\n",
        "                                 keras.layers.Dense(64, activation=\"relu\"),\n",
        "                                 keras.layers.Dense(32, activation=\"relu\"),\n",
        "                                 keras.layers.Dense(10, activation=\"softmax\")\n",
        "])"
      ]
    },
    {
      "cell_type": "code",
      "execution_count": null,
      "metadata": {
        "colab": {
          "base_uri": "https://localhost:8080/"
        },
        "id": "wtfVoGP5sAmG",
        "outputId": "d15211f2-6bd2-4679-b601-f5063a2f9bbb"
      },
      "outputs": [],
      "source": [
        "model.compile(optimizer=\"adam\", loss=\"sparse_categorical_crossentropy\", metrics=[\"accuracy\"])\n",
        "model.summary()"
      ]
    },
    {
      "cell_type": "code",
      "execution_count": null,
      "metadata": {
        "colab": {
          "base_uri": "https://localhost:8080/"
        },
        "id": "X-zAvny9sLeY",
        "outputId": "6a3888d0-5187-4579-903d-131b9d633661"
      },
      "outputs": [],
      "source": [
        "callbacks = myCallback()\n",
        "model.fit(x_train, y_train, epochs=20, callbacks=[callbacks], batch_size = 128)"
      ]
    },
    {
      "cell_type": "code",
      "execution_count": null,
      "metadata": {
        "colab": {
          "base_uri": "https://localhost:8080/"
        },
        "id": "XytXBFBysp3-",
        "outputId": "2687760b-4f89-4eff-c2f9-5ce6c87db04e"
      },
      "outputs": [],
      "source": [
        "model.evaluate(x_test, y_test)"
      ]
    }
  ],
  "metadata": {
    "accelerator": "GPU",
    "colab": {
      "collapsed_sections": [],
      "name": "ex3-convnets-mnist.ipynb",
      "provenance": []
    },
    "kernelspec": {
      "display_name": "Python 3",
      "language": "python",
      "name": "python3"
    },
    "language_info": {
      "name": "python",
      "version": "3.11.1"
    },
    "vscode": {
      "interpreter": {
        "hash": "1a1af0ee75eeea9e2e1ee996c87e7a2b11a0bebd85af04bb136d915cefc0abce"
      }
    }
  },
  "nbformat": 4,
  "nbformat_minor": 0
}
