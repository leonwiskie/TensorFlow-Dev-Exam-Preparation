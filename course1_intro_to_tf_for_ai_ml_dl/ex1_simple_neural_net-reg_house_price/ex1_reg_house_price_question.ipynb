{
  "cells": [
    {
      "cell_type": "markdown",
      "metadata": {
        "id": "sSJtibbeKdl9"
      },
      "source": [
        "# Challenge\n",
        "\n"
      ]
    },
    {
      "cell_type": "markdown",
      "metadata": {
        "id": "xP1Km9RfKrWF"
      },
      "source": [
        "In this exercise, you'll try to build a neural network that predicts the price of a house according to a simple formula.\n",
        "\n",
        "**Data:** <br>\n",
        "So, imagine if house pricing was as easy as a house costs 50k+50k per bedroom\n",
        "(so a 1 bedroom house costs 100k, a 2 bedroom house costs 150k, etc)\n",
        "\n",
        "**Challenge:** <br>\n",
        "How would you create a neural network that learns this relationship so that it would predict a 7 bedroom house as costing close to 400k etc.\n",
        "\n",
        "**Hint:** Your network might work better if you scale the house price down. You don't have to give the answer 400. It might be better to create something that predicts the number 4 and then your answer is in the 'hundreds of thousands' etc.\n"
      ]
    },
    {
      "cell_type": "markdown",
      "metadata": {
        "id": "VQDFK43qLa95"
      },
      "source": [
        "# Solution"
      ]
    },
    {
      "cell_type": "markdown",
      "metadata": {
        "id": "OHgU_z6gLjH4"
      },
      "source": [
        "Since, we're dealing with house prices, this problem is a regression problem. The nature of the data to be generated is linear; however, we'll use this to explore how to build a simple neural network. \n",
        "\n",
        "The solution was created such that creating, compiling, fitting, saving and predicting using the model are all done in one go. To make this possible, we need to structure it as a function, with the new data as the input and the prediction as the output."
      ]
    },
    {
      "cell_type": "code",
      "execution_count": null,
      "metadata": {
        "id": "nObWaYpPLaec",
        "vscode": {
          "languageId": "python"
        }
      },
      "outputs": [],
      "source": [
        "# import needed tools\n",
        "import numpy as np\n",
        "\n",
        "import tensorflow as tf\n",
        "from tensorflow import keras"
      ]
    },
    {
      "cell_type": "code",
      "execution_count": null,
      "metadata": {
        "id": "Z7gp9yZJJ_zu",
        "vscode": {
          "languageId": "python"
        }
      },
      "outputs": [],
      "source": [
        "def house_model(x_new):\n",
        "  # create the example data\n",
        "  xs = [x for x in range(1,7)]\n",
        "  ys = []\n",
        "  for x in xs:\n",
        "    ys.append(0.5 + 0.5*x)\n",
        "  \n",
        "  # create the model\n",
        "  model = keras.Sequential([\n",
        "                            keras.layers.Dense(units=1, input_shape=[1])\n",
        "  ])\n",
        "  model.compile(optimizer=\"sgd\", loss=\"mean_squared_error\")\n",
        "  model.fit(xs, ys, epochs=500)\n",
        "  model.save(\"ex1_reg.h5\")\n",
        "  return model.predict(x_new)\n"
      ]
    },
    {
      "cell_type": "code",
      "execution_count": null,
      "metadata": {
        "colab": {
          "base_uri": "https://localhost:8080/"
        },
        "id": "TMNwlvmvNMpZ",
        "outputId": "22a7bbcf-3900-4061-ca68-1005ca34ab6a",
        "vscode": {
          "languageId": "python"
        }
      },
      "outputs": [],
      "source": [
        "prediction = house_model([7.0])\n",
        "print(prediction)"
      ]
    },
    {
      "cell_type": "markdown",
      "metadata": {
        "id": "U4p1oPf_RS85"
      },
      "source": [
        "For the sake of practicing for the TF exam, we save and download the model then load and run it using PyCharm."
      ]
    }
  ],
  "metadata": {
    "accelerator": "GPU",
    "colab": {
      "collapsed_sections": [],
      "name": "ex1_reg_house_price_question.ipynb",
      "provenance": [],
      "toc_visible": true
    },
    "kernelspec": {
      "display_name": "Python 3",
      "name": "python3"
    }
  },
  "nbformat": 4,
  "nbformat_minor": 0
}
